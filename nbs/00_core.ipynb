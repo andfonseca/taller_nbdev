{
 "cells": [
  {
   "cell_type": "markdown",
   "metadata": {},
   "source": [
    "# core\n",
    "\n",
    "> Fill in a module description here\n",
    "\n",
    "\n",
    "Vamos a añadir las funciones que queramos dentro de este notebook."
   ]
  },
  {
   "cell_type": "code",
   "execution_count": null,
   "metadata": {},
   "outputs": [],
   "source": [
    "#| default_exp core"
   ]
  },
  {
   "cell_type": "code",
   "execution_count": null,
   "metadata": {},
   "outputs": [],
   "source": [
    "#| hide\n",
    "from nbdev.showdoc import *"
   ]
  },
  {
   "cell_type": "code",
   "execution_count": 1,
   "metadata": {},
   "outputs": [],
   "source": [
    "#| export\n",
    "def split_words(string):\n",
    "    \"\"\"Una función que va a dividir todo en sus palabras\"\"\"\n",
    "    return string.split(' ')"
   ]
  },
  {
   "cell_type": "code",
   "execution_count": 9,
   "metadata": {},
   "outputs": [
    {
     "data": {
      "text/plain": [
       "['Si',\n",
       " 'se',\n",
       " 'mantiene',\n",
       " 'en',\n",
       " 'servicio',\n",
       " 'la',\n",
       " 'página',\n",
       " 'es',\n",
       " 'posible',\n",
       " 'ver',\n",
       " 'los',\n",
       " 'cambios',\n",
       " 'que',\n",
       " 'se',\n",
       " 'hacen',\n",
       " 'con',\n",
       " 'ciertos',\n",
       " 'retraso.']"
      ]
     },
     "execution_count": 9,
     "metadata": {},
     "output_type": "execute_result"
    }
   ],
   "source": [
    "split_words (\"Si se mantiene en servicio la página es posible ver los cambios que se hacen con ciertos retrasos.\")"
   ]
  },
  {
   "cell_type": "code",
   "execution_count": 16,
   "metadata": {},
   "outputs": [],
   "source": [
    "#| hide\n",
    "string_exemplo = \"Si se mantiene en servicio la página es posible ver los cambios que se hacen con ciertos retrasos.\""
   ]
  },
  {
   "cell_type": "code",
   "execution_count": 17,
   "metadata": {},
   "outputs": [],
   "source": [
    "#| export\n",
    "def caracteres_palabra(string):\n",
    "    \"\"\"Caracteres por palabra\n",
    "    string: Una cadena de caracteres\n",
    "    returns: Una lista con el número de caracteres por palabra\n",
    "    \"\"\"\n",
    "    list_palabras = split_words(string)\n",
    "    return [len(palabra) for palabra in list_palabras]"
   ]
  },
  {
   "cell_type": "code",
   "execution_count": 18,
   "metadata": {},
   "outputs": [
    {
     "data": {
      "text/plain": [
       "[2, 2, 8, 2, 8, 2, 6, 2, 7, 3, 3, 7, 3, 2, 5, 3, 7, 8]"
      ]
     },
     "execution_count": 18,
     "metadata": {},
     "output_type": "execute_result"
    }
   ],
   "source": [
    "caracteres_palabra(string_exemplo)"
   ]
  },
  {
   "cell_type": "code",
   "execution_count": null,
   "metadata": {},
   "outputs": [],
   "source": [
    "#| hide\n",
    "import nbdev; nbdev.nbdev_export()"
   ]
  }
 ],
 "metadata": {
  "kernelspec": {
   "display_name": "Python 3 (ipykernel)",
   "language": "python",
   "name": "python3"
  },
  "language_info": {
   "codemirror_mode": {
    "name": "ipython",
    "version": 3
   },
   "file_extension": ".py",
   "mimetype": "text/x-python",
   "name": "python",
   "nbconvert_exporter": "python",
   "pygments_lexer": "ipython3",
   "version": "3.11.5"
  }
 },
 "nbformat": 4,
 "nbformat_minor": 4
}
